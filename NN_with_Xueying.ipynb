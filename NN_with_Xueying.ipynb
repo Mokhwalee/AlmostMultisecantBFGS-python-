{
 "cells": [
  {
   "cell_type": "code",
   "execution_count": null,
   "metadata": {},
   "outputs": [],
   "source": [
    "import numpy as np\n",
    "from scipy.io import loadmat\n",
    "\n",
    "def get_ab(X, y, a, b):\n",
    "    # Filter the data for classes a and b\n",
    "    idx = np.where((y == a) | (y == b))[0]\n",
    "    X_ab = X[idx]\n",
    "    y_ab = y[idx]\n",
    "    # Convert labels to binary (0 and 1)\n",
    "    y_ab = np.where(y_ab == a, 0, 1)\n",
    "    return X_ab, y_ab\n",
    "\n",
    "def get_mnist_data(a, b):\n",
    "    # Load the .mat file\n",
    "    data = loadmat('mnist.mat')\n",
    "\n",
    "    # Extract and process training data\n",
    "    X = data['trainX'].astype(np.float64)\n",
    "    y = data['trainY'][0, :].astype(np.float64)  # column vector\n",
    "    X, y = get_ab(X, y, a, b)\n",
    "\n",
    "    # Extract and process test data\n",
    "    Xt = data['testX'].astype(np.float64)\n",
    "    yt = data['testY'][0, :].astype(np.float64)  # column vector\n",
    "    Xt, yt = get_ab(Xt, yt, a, b)\n",
    "\n",
    "    return X, y, Xt, yt\n",
    "\n",
    "\n",
    "def logistic_regression_classification(A, b):\n",
    "    m, n = A.shape\n",
    "    bA = (b[:, np.newaxis] * A)  # Element-wise multiplication\n",
    "\n",
    "    def sigmoid(x):\n",
    "        return 1 / (1 + np.exp(-x))\n",
    "\n",
    "    def fn(x):\n",
    "        return np.mean(-np.log(sigmoid(bA @ x)))\n",
    "\n",
    "    def grad(x):\n",
    "        return (bA.T @ (sigmoid(bA @ x) - 1)) / m\n",
    "\n",
    "    return fn, grad, m, n"
   ]
  },
  {
   "cell_type": "code",
   "execution_count": 1,
   "metadata": {},
   "outputs": [
    {
     "ename": "NameError",
     "evalue": "name 'get_mnist_data' is not defined",
     "output_type": "error",
     "traceback": [
      "\u001b[0;31m---------------------------------------------------------------------------\u001b[0m",
      "\u001b[0;31mNameError\u001b[0m                                 Traceback (most recent call last)",
      "Cell \u001b[0;32mIn[1], line 3\u001b[0m\n\u001b[1;32m      1\u001b[0m \u001b[38;5;66;03m# ----------- Logistic Regression Problems ----------- %\u001b[39;00m\n\u001b[1;32m      2\u001b[0m num1 \u001b[38;5;241m=\u001b[39m \u001b[38;5;241m4\u001b[39m; num2 \u001b[38;5;241m=\u001b[39m \u001b[38;5;241m9\u001b[39m\n\u001b[0;32m----> 3\u001b[0m [A, b, At, bt] \u001b[38;5;241m=\u001b[39m \u001b[43mget_mnist_data\u001b[49m(num1, num2)\n\u001b[1;32m      4\u001b[0m [fn, grad, m, n] \u001b[38;5;241m=\u001b[39m logistic_regression_classification(A, b)\n",
      "\u001b[0;31mNameError\u001b[0m: name 'get_mnist_data' is not defined"
     ]
    }
   ],
   "source": [
    "# ----------- Logistic Regression Problems ----------- %\n",
    "num1 = 4; num2 = 9\n",
    "A, b, At, bt = get_mnist_data(num1, num2)\n",
    "fn, grad, m, n = logistic_regression_classification(A, b)"
   ]
  }
 ],
 "metadata": {
  "kernelspec": {
   "display_name": "AlmostMultisecantBFGS-python-",
   "language": "python",
   "name": "python3"
  },
  "language_info": {
   "codemirror_mode": {
    "name": "ipython",
    "version": 3
   },
   "file_extension": ".py",
   "mimetype": "text/x-python",
   "name": "python",
   "nbconvert_exporter": "python",
   "pygments_lexer": "ipython3",
   "version": "3.9.6"
  }
 },
 "nbformat": 4,
 "nbformat_minor": 2
}
